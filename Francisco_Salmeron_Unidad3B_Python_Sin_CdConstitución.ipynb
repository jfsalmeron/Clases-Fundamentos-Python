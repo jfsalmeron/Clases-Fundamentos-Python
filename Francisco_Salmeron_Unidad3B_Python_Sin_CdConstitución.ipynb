{
  "nbformat": 4,
  "nbformat_minor": 0,
  "metadata": {
    "colab": {
      "provenance": [],
      "collapsed_sections": [
        "hvOSDIk18k-O"
      ],
      "include_colab_link": true
    },
    "kernelspec": {
      "name": "python3",
      "display_name": "Python 3"
    },
    "language_info": {
      "name": "python"
    }
  },
  "cells": [
    {
      "cell_type": "markdown",
      "metadata": {
        "id": "view-in-github",
        "colab_type": "text"
      },
      "source": [
        "<a href=\"https://colab.research.google.com/github/jfsalmeron/Clases-Fundamentos-Python/blob/main/Francisco_Salmeron_Unidad3B_Python_Sin_CdConstituci%C3%B3n.ipynb\" target=\"_parent\"><img src=\"https://colab.research.google.com/assets/colab-badge.svg\" alt=\"Open In Colab\"/></a>"
      ]
    },
    {
      "cell_type": "markdown",
      "source": [
        "\n",
        "# ***PROGRAMACIÓN PYTHON***\n",
        "\n",
        "---\n",
        "\n",
        "\n",
        "\n"
      ],
      "metadata": {
        "id": "hvOSDIk18k-O"
      }
    },
    {
      "cell_type": "markdown",
      "source": [
        "# **UNIDAD 3 - Manejo de excepciones.**\n",
        "\n",
        "---\n",
        "Una excepción ocurre cuando sucede algo inesperado en el programa, generalmente ocurren cuando se produce un error, un método no termina correctamente o como su nombre lo indica, por alguna razón, el programa termina de manera excepcional por alguna situación anormal.\n",
        "\n",
        "Es muy importante aprender a manejar las excepciones ya que ocasionan que las aplicaciones finalicen de manera abrupta y generalmente los usuarios no obtienen información de lo que sucedio.\n",
        "\n",
        "Para evitar situaciones de ese tipo, se debe recurrir al manejo de las excepciones, de esta manera, es posible controlar el comportamiento del programa cuando alcanza una situación de error.\n",
        "\n",
        "Como ejemplo, se usará el caso de la división:"
      ],
      "metadata": {
        "id": "ORKz6k_BKrNv"
      }
    },
    {
      "cell_type": "code",
      "source": [
        "print(\" k\")"
      ],
      "metadata": {
        "id": "_f_BdaQ6H3-e",
        "colab": {
          "base_uri": "https://localhost:8080/"
        },
        "outputId": "fcd56d92-fd0b-4084-94c2-af798a2dbf64"
      },
      "execution_count": 1,
      "outputs": [
        {
          "output_type": "stream",
          "name": "stdout",
          "text": [
            " k\n"
          ]
        }
      ]
    },
    {
      "cell_type": "markdown",
      "source": [
        "En el caso anterior, la división puede realizarse son problema debido a que los valores de las variables son válidos, sin embargo ¿Qué sucede si la variable `b` tiene el valor de 0?"
      ],
      "metadata": {
        "id": "yKcKBW8fIu06"
      }
    },
    {
      "cell_type": "code",
      "source": [],
      "metadata": {
        "id": "_fwoRQEgzT9q"
      },
      "execution_count": null,
      "outputs": []
    },
    {
      "cell_type": "markdown",
      "source": [
        "Se alcanza la siguiente excepción: `ZeroDivisionError: division by zero`, esto ocurre por que matematicamente la división entre cero no está definida, por tanto, ningún lenguaje de programación sabe como realizar dicha operación.\n",
        "\n",
        "Otra excepción podría suceder si alguna variable fuera un objeto que no puede realizar la operación de división:"
      ],
      "metadata": {
        "id": "_iAufoW0za_k"
      }
    },
    {
      "cell_type": "code",
      "source": [],
      "metadata": {
        "id": "8PZTuBh30Q52"
      },
      "execution_count": null,
      "outputs": []
    },
    {
      "cell_type": "markdown",
      "source": [
        "En este caso se alcanza la excepción de: `TypeError: unsupported operand type(s) for /: 'int' and 'str'`.\n",
        "\n",
        "Aunque es posible agregar robustez al código mediante estructuras de selección `if - else`, generalmente resulta imposible e impráctico realizar todas las comprobaciones de forma manual de una en una."
      ],
      "metadata": {
        "id": "ZYEw2VQl0f1Q"
      }
    },
    {
      "cell_type": "code",
      "source": [],
      "metadata": {
        "id": "Q9QV8bBU1RYW"
      },
      "execution_count": null,
      "outputs": []
    },
    {
      "cell_type": "markdown",
      "source": [
        "Otra manera de lanzar excepciones es cuando se conozca de algún caso en el que el programa puede incurrir en un error. Para esas situaciones se hace uso de la función `raise()`:"
      ],
      "metadata": {
        "id": "kgw4wsGl1imR"
      }
    },
    {
      "cell_type": "code",
      "source": [],
      "metadata": {
        "id": "KID6pdiF1_9Z"
      },
      "execution_count": null,
      "outputs": []
    },
    {
      "cell_type": "markdown",
      "source": [
        "En el ejemplo anterior, `b` toma el valor de una cadena, por tanto, el programa cae en una excepción de tipo en la cual para realizar la división únicamente se aceptan enteros, de este modo lanzamos una excepción personalizada. \n",
        "\n",
        "Para ver la lista de todas las excepciones que tiene Python, es necesario consultar la documentación oficial respecto a las [excepciones](https://docs.python.org/3/library/exceptions.html).\n",
        "\n",
        "Si bien la solución anterior permite visualizar las posibles condiciones de error, aún no se están manejando correctamente y el programa continua deteniéndose en la excepción. Para evitarlo es necesario utilizar los bloques `try - except`. La sintaxis es la siguiente:\n",
        "\n",
        "```\n",
        "try:\n",
        "  Código que lanzará alguna o varias excepciones.\n",
        "except:\n",
        "  Lo que realizará el programa en caso de alcanzar la excepción especificada.\n",
        "```\n",
        "\n",
        "Por ejemplo, para capturar las dos posibles excepciones de la división y hacer que el programa no termine anormalmente el código sería:"
      ],
      "metadata": {
        "id": "n2u8Ztba35Es"
      }
    },
    {
      "cell_type": "code",
      "source": [],
      "metadata": {
        "id": "IRYC2Db96gqT"
      },
      "execution_count": null,
      "outputs": []
    },
    {
      "cell_type": "markdown",
      "source": [
        "El segmento anterior permite tratar cada excepción de manera separada, aunque si se requiere tratar ambas excepciones de la misma manera, es posible definirlas dentro de un bloque `except()`:"
      ],
      "metadata": {
        "id": "1CuiX5O87CWz"
      }
    },
    {
      "cell_type": "code",
      "source": [],
      "metadata": {
        "id": "Ytza1en87TRs"
      },
      "execution_count": null,
      "outputs": []
    },
    {
      "cell_type": "markdown",
      "source": [
        "Si son muchas las posibles excepciones o no se conocen, se puede utilizar la clase base de las mismas, la cual es `Exception`, una vez que caiga dentro de ella, es posible identificarla:"
      ],
      "metadata": {
        "id": "FebuWmAm7fr_"
      }
    },
    {
      "cell_type": "code",
      "source": [],
      "metadata": {
        "id": "Bvhg2Jtd71kX"
      },
      "execution_count": null,
      "outputs": []
    },
    {
      "cell_type": "markdown",
      "source": [
        "Además de los bloques anteriores, Python permite añadir un bloque `else` el cual se ejecutará sino se alcanzó alguna excepción:"
      ],
      "metadata": {
        "id": "-pz4taeX8XS7"
      }
    },
    {
      "cell_type": "code",
      "source": [],
      "metadata": {
        "id": "pG2Ki0__8p4s"
      },
      "execution_count": null,
      "outputs": []
    },
    {
      "cell_type": "markdown",
      "source": [
        "Un último bloque que es posible agregar a los anteriores, es `finally`. Este bloque siempre se ejecutará haya habido o no alguna excepción:"
      ],
      "metadata": {
        "id": "tf0iqlvc83Wj"
      }
    },
    {
      "cell_type": "code",
      "source": [],
      "metadata": {
        "id": "J2lyrJee9R1w"
      },
      "execution_count": null,
      "outputs": []
    },
    {
      "cell_type": "markdown",
      "source": [
        "***ESCRIBE Y COMPARTE TUS REFLEXIONES DE LOS TEMAS VISTOS ANTERIORMENTE.***\n",
        "________________________________________________________________________________\n",
        "________________________________________________________________________________\n",
        "________________________________________________________________________________\n",
        "________________________________________________________________________________"
      ],
      "metadata": {
        "id": "SG9zH2AYMsnV"
      }
    },
    {
      "cell_type": "markdown",
      "source": [],
      "metadata": {
        "id": "zsdUdF9w-pew"
      }
    }
  ]
}